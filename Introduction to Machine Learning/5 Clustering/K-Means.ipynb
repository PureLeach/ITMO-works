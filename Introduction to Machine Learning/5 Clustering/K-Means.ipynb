{
 "cells": [
  {
   "cell_type": "code",
   "execution_count": 36,
   "metadata": {},
   "outputs": [],
   "source": [
    "# Чтение данных, так как названия конфет уникальны, используем их в качестве индекса\n",
    "import numpy as np\n",
    "import pandas as pd\n",
    "df = pd.read_csv(\"data.csv\", sep=',', index_col='Object')"
   ]
  },
  {
   "cell_type": "code",
   "execution_count": 37,
   "metadata": {},
   "outputs": [],
   "source": [
    "# Удаление столбца Cluster из набора данных\n",
    "coords = df.drop('Cluster', axis=1)"
   ]
  },
  {
   "cell_type": "code",
   "execution_count": 38,
   "metadata": {},
   "outputs": [],
   "source": [
    "# Подключение KMeans из библиотеки sklearn\n",
    "from sklearn.cluster import KMeans"
   ]
  },
  {
   "cell_type": "code",
   "execution_count": 39,
   "metadata": {},
   "outputs": [],
   "source": [
    "# Координаты центроидов\n",
    "centroid = np.array([[8.0, 12.0], [10.57, 7.43], [9.5, 9.5]])"
   ]
  },
  {
   "cell_type": "code",
   "execution_count": 40,
   "metadata": {},
   "outputs": [],
   "source": [
    "# Инициализация модели\n",
    "kmeans = KMeans(n_clusters=3, init=centroid, max_iter=100, n_init=1)"
   ]
  },
  {
   "cell_type": "code",
   "execution_count": 41,
   "metadata": {},
   "outputs": [],
   "source": [
    "# Обучение модели на данных из coords\n",
    "model = kmeans.fit(coords)"
   ]
  },
  {
   "cell_type": "code",
   "execution_count": 42,
   "metadata": {},
   "outputs": [
    {
     "output_type": "execute_result",
     "data": {
      "text/plain": [
       "[2, 2, 1, 2, 1, 1, 0, 0, 0, 1, 0, 0, 1, 1, 0]"
      ]
     },
     "metadata": {},
     "execution_count": 42
    }
   ],
   "source": [
    "# Вывод назначенных кластеров\n",
    "klasters = model.labels_.tolist()\n",
    "klasters"
   ]
  },
  {
   "cell_type": "code",
   "execution_count": 43,
   "metadata": {},
   "outputs": [
    {
     "output_type": "execute_result",
     "data": {
      "text/plain": [
       "array([ 6,  7,  8, 10, 11, 14], dtype=int64)"
      ]
     },
     "metadata": {},
     "execution_count": 43
    }
   ],
   "source": [
    "# Определяем номера элементов кластера 0\n",
    "klasters = np.asarray(klasters, dtype=np.int32)\n",
    "klasters_0 = np.where(klasters == 0)[0]\n",
    "klasters_0"
   ]
  },
  {
   "cell_type": "code",
   "execution_count": 44,
   "metadata": {},
   "outputs": [],
   "source": [
    "# Обучение модели и расчет расстояний до центроидов\n",
    "alldistances = kmeans.fit_transform(coords)"
   ]
  },
  {
   "cell_type": "code",
   "execution_count": 45,
   "metadata": {},
   "outputs": [
    {
     "output_type": "execute_result",
     "data": {
      "text/plain": [
       "array([[ 9.67528352, 12.25651754,  2.60341656],\n",
       "       [ 6.90008051, 10.07747764,  2.84800125],\n",
       "       [13.55031775,  5.8214164 ,  6.66666667],\n",
       "       [13.17615692,  8.43932593,  4.44722135],\n",
       "       [ 8.01734231,  3.90156664,  8.02772972],\n",
       "       [12.47441827,  0.74535599, 10.54092553],\n",
       "       [ 3.50396601,  8.80656321,  6.83942818],\n",
       "       [ 0.52704628, 12.44543647, 10.00555401],\n",
       "       [ 2.3687784 , 12.87978606, 11.93500919],\n",
       "       [11.70232645,  3.14466038, 12.07384685],\n",
       "       [ 4.11636301, 12.67105187, 13.20774184],\n",
       "       [ 1.26929552, 11.92569588,  8.64741451],\n",
       "       [10.3091114 ,  3.14466038, 11.00504935],\n",
       "       [17.50079363,  5.58768487, 13.80016103],\n",
       "       [ 4.19655944, 14.33720878,  8.72416822]])"
      ]
     },
     "metadata": {},
     "execution_count": 45
    }
   ],
   "source": [
    "# Вывод расстояний от данных до всех центроидов\n",
    "alldistances"
   ]
  },
  {
   "cell_type": "code",
   "execution_count": 46,
   "metadata": {},
   "outputs": [
    {
     "output_type": "execute_result",
     "data": {
      "text/plain": [
       "2.663668108491613"
      ]
     },
     "metadata": {},
     "execution_count": 46
    }
   ],
   "source": [
    "# Среднее расстояний между объектами отнесенных к кластеру 0 и их центроиду(столбец 0)\n",
    "np.mean(alldistances[klasters_0, 0])\n"
   ]
  },
  {
   "cell_type": "code",
   "execution_count": null,
   "metadata": {},
   "outputs": [],
   "source": []
  }
 ],
 "metadata": {
  "kernelspec": {
   "name": "python394jvsc74a57bd077594395d1dbc7e532b1109311e8d416ccbba4c1ee0c9f1f05ad46b02508c705",
   "display_name": "Python 3.9.4 64-bit"
  },
  "language_info": {
   "codemirror_mode": {
    "name": "ipython",
    "version": 3
   },
   "file_extension": ".py",
   "mimetype": "text/x-python",
   "name": "python",
   "nbconvert_exporter": "python",
   "pygments_lexer": "ipython3",
   "version": "3.9.4"
  },
  "metadata": {
   "interpreter": {
    "hash": "77594395d1dbc7e532b1109311e8d416ccbba4c1ee0c9f1f05ad46b02508c705"
   }
  }
 },
 "nbformat": 4,
 "nbformat_minor": 2
}