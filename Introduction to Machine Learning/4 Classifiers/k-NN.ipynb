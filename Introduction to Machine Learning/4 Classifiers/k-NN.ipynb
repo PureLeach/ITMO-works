{
 "cells": [
  {
   "cell_type": "code",
   "execution_count": 1,
   "metadata": {},
   "outputs": [],
   "source": [
    "import pandas as pd\n",
    "train_data = pd.read_csv(\"data.csv\", sep=',', index_col='id')"
   ]
  },
  {
   "cell_type": "code",
   "execution_count": 2,
   "metadata": {},
   "outputs": [
    {
     "output_type": "execute_result",
     "data": {
      "text/plain": [
       "     X   Y  Class\n",
       "id               \n",
       "1   70  80      0\n",
       "2   56  56      1\n",
       "3   45  99      1\n",
       "4   36  23      0\n",
       "5   33  33      0\n",
       "6   39  34      1\n",
       "7   19  39      1\n",
       "8   37  61      0\n",
       "9   28  16      1\n",
       "10  28  58      0"
      ],
      "text/html": "<div>\n<style scoped>\n    .dataframe tbody tr th:only-of-type {\n        vertical-align: middle;\n    }\n\n    .dataframe tbody tr th {\n        vertical-align: top;\n    }\n\n    .dataframe thead th {\n        text-align: right;\n    }\n</style>\n<table border=\"1\" class=\"dataframe\">\n  <thead>\n    <tr style=\"text-align: right;\">\n      <th></th>\n      <th>X</th>\n      <th>Y</th>\n      <th>Class</th>\n    </tr>\n    <tr>\n      <th>id</th>\n      <th></th>\n      <th></th>\n      <th></th>\n    </tr>\n  </thead>\n  <tbody>\n    <tr>\n      <th>1</th>\n      <td>70</td>\n      <td>80</td>\n      <td>0</td>\n    </tr>\n    <tr>\n      <th>2</th>\n      <td>56</td>\n      <td>56</td>\n      <td>1</td>\n    </tr>\n    <tr>\n      <th>3</th>\n      <td>45</td>\n      <td>99</td>\n      <td>1</td>\n    </tr>\n    <tr>\n      <th>4</th>\n      <td>36</td>\n      <td>23</td>\n      <td>0</td>\n    </tr>\n    <tr>\n      <th>5</th>\n      <td>33</td>\n      <td>33</td>\n      <td>0</td>\n    </tr>\n    <tr>\n      <th>6</th>\n      <td>39</td>\n      <td>34</td>\n      <td>1</td>\n    </tr>\n    <tr>\n      <th>7</th>\n      <td>19</td>\n      <td>39</td>\n      <td>1</td>\n    </tr>\n    <tr>\n      <th>8</th>\n      <td>37</td>\n      <td>61</td>\n      <td>0</td>\n    </tr>\n    <tr>\n      <th>9</th>\n      <td>28</td>\n      <td>16</td>\n      <td>1</td>\n    </tr>\n    <tr>\n      <th>10</th>\n      <td>28</td>\n      <td>58</td>\n      <td>0</td>\n    </tr>\n  </tbody>\n</table>\n</div>"
     },
     "metadata": {},
     "execution_count": 2
    }
   ],
   "source": [
    "train_data"
   ]
  },
  {
   "cell_type": "markdown",
   "metadata": {},
   "source": [
    "Отбор данных для предикторов, удаление столбца Class"
   ]
  },
  {
   "cell_type": "code",
   "execution_count": 3,
   "metadata": {},
   "outputs": [],
   "source": [
    "X = pd.DataFrame(train_data.drop(['Class'], axis=1))"
   ]
  },
  {
   "cell_type": "markdown",
   "metadata": {},
   "source": [
    "Отбор столбца Class для отклика"
   ]
  },
  {
   "cell_type": "code",
   "execution_count": 4,
   "metadata": {},
   "outputs": [],
   "source": [
    "y = pd.DataFrame(train_data['Class']).values.ravel()"
   ]
  },
  {
   "cell_type": "markdown",
   "metadata": {},
   "source": [
    "Подключение библиотеки и задание параметров модели:\n",
    "n_neighbors — число соседей;\n",
    "p — используемое расстояние. Манхэттенское расстояние — p=1, евклидово расстояние — p=2.\n",
    "Дополнительные параметры — https://scikit-learn.org/stable/modules/generated/sklearn.neighbors.KNeighborsClassifier.html"
   ]
  },
  {
   "cell_type": "code",
   "execution_count": 5,
   "metadata": {},
   "outputs": [
    {
     "output_type": "execute_result",
     "data": {
      "text/plain": [
       "KNeighborsClassifier(n_neighbors=3, p=1)"
      ]
     },
     "metadata": {},
     "execution_count": 5
    }
   ],
   "source": [
    "from sklearn.neighbors import KNeighborsClassifier\n",
    "neigh = KNeighborsClassifier(n_neighbors=3, p=1)\n",
    "neigh.fit(X, y)"
   ]
  },
  {
   "cell_type": "markdown",
   "metadata": {},
   "source": [
    "Новый объект, который необходимо классифицировать"
   ]
  },
  {
   "cell_type": "code",
   "execution_count": 6,
   "metadata": {},
   "outputs": [],
   "source": [
    "NewObject = [92, 85]"
   ]
  },
  {
   "cell_type": "markdown",
   "metadata": {},
   "source": [
    "Назначенный класс:"
   ]
  },
  {
   "cell_type": "code",
   "execution_count": 7,
   "metadata": {},
   "outputs": [
    {
     "output_type": "execute_result",
     "data": {
      "text/plain": [
       "array([1], dtype=int64)"
      ]
     },
     "metadata": {},
     "execution_count": 7
    }
   ],
   "source": [
    "neigh.predict([NewObject])"
   ]
  },
  {
   "cell_type": "markdown",
   "metadata": {},
   "source": [
    "Вероятности отнесения к классам 0 и 1 соответственно:"
   ]
  },
  {
   "cell_type": "code",
   "execution_count": 8,
   "metadata": {},
   "outputs": [
    {
     "output_type": "execute_result",
     "data": {
      "text/plain": [
       "array([[0.33333333, 0.66666667]])"
      ]
     },
     "metadata": {},
     "execution_count": 8
    }
   ],
   "source": [
    "neigh.predict_proba([NewObject])"
   ]
  },
  {
   "cell_type": "markdown",
   "metadata": {},
   "source": [
    "Вывод расстояний до $k$ соседей в порядке удаления (первый массив — расстояния, второй — идентификаторы объектов). <b>Обращаем внимание</b>, что метод возвращает индексы ближайших соседей с нуля, что не соответствует индексации в таблице."
   ]
  },
  {
   "cell_type": "code",
   "execution_count": 9,
   "metadata": {},
   "outputs": [
    {
     "output_type": "execute_result",
     "data": {
      "text/plain": [
       "(array([[27., 61., 65.]]), array([[0, 2, 1]], dtype=int64))"
      ]
     },
     "metadata": {},
     "execution_count": 9
    }
   ],
   "source": [
    "neigh.kneighbors([NewObject])"
   ]
  },
  {
   "cell_type": "markdown",
   "metadata": {},
   "source": [
    "Получены индексы [0, 1, 2], значит id = [1, 2, 3]"
   ]
  },
  {
   "cell_type": "code",
   "execution_count": null,
   "metadata": {},
   "outputs": [],
   "source": []
  }
 ],
 "metadata": {
  "kernelspec": {
   "name": "python394jvsc74a57bd077594395d1dbc7e532b1109311e8d416ccbba4c1ee0c9f1f05ad46b02508c705",
   "display_name": "Python 3.9.4 64-bit"
  },
  "language_info": {
   "codemirror_mode": {
    "name": "ipython",
    "version": 3
   },
   "file_extension": ".py",
   "mimetype": "text/x-python",
   "name": "python",
   "nbconvert_exporter": "python",
   "pygments_lexer": "ipython3",
   "version": "3.9.4"
  },
  "metadata": {
   "interpreter": {
    "hash": "77594395d1dbc7e532b1109311e8d416ccbba4c1ee0c9f1f05ad46b02508c705"
   }
  }
 },
 "nbformat": 4,
 "nbformat_minor": 2
}