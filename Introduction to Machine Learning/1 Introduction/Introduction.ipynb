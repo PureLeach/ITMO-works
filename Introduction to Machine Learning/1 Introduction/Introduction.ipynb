{
 "metadata": {
  "language_info": {
   "codemirror_mode": {
    "name": "ipython",
    "version": 3
   },
   "file_extension": ".py",
   "mimetype": "text/x-python",
   "name": "python",
   "nbconvert_exporter": "python",
   "pygments_lexer": "ipython3",
   "version": "3.8.6"
  },
  "orig_nbformat": 2,
  "kernelspec": {
   "name": "python386jvsc74a57bd08681eb3d3a3bd503d86132454b880611a7751ad833d3650b3b73fd32f1eedb4e",
   "display_name": "Python 3.8.6 64-bit"
  },
  "metadata": {
   "interpreter": {
    "hash": "8681eb3d3a3bd503d86132454b880611a7751ad833d3650b3b73fd32f1eedb4e"
   }
  }
 },
 "nbformat": 4,
 "nbformat_minor": 2,
 "cells": [
  {
   "cell_type": "code",
   "execution_count": 1,
   "metadata": {},
   "outputs": [],
   "source": [
    "import numpy as np\n",
    "import pandas as pd"
   ]
  },
  {
   "cell_type": "code",
   "execution_count": 2,
   "metadata": {},
   "outputs": [],
   "source": [
    "# Задаём максимально количкство строк для вывода\n",
    "# pd.options.display.max_rows = 100"
   ]
  },
  {
   "cell_type": "code",
   "execution_count": 3,
   "metadata": {},
   "outputs": [],
   "source": [
    "df = pd.read_csv(r\"salary_and_population.csv\",\n",
    "                  sep=',', decimal='.')"
   ]
  },
  {
   "cell_type": "code",
   "execution_count": 4,
   "metadata": {},
   "outputs": [
    {
     "output_type": "execute_result",
     "data": {
      "text/plain": [
       "                Region_RU                          Region_EN  AVG_Salary  \\\n",
       "0          Алтайский край                       Altai Region       25960   \n",
       "1        Амурская область                        Amur Region       43156   \n",
       "2   Архангельская область                 Arkhangelsk Region       47526   \n",
       "3    Астраханская область                   Astrakhan Region       32166   \n",
       "4    Белгородская область                    Belgorod Region       31163   \n",
       "..                    ...                                ...         ...   \n",
       "80   Чеченская Республика               Republic of Chechnya       26108   \n",
       "81   Чувашская Республика                   Chuvash Republic       27028   \n",
       "82           Чукотский АО                        Chukotka AO       96930   \n",
       "83      Ямало-Ненецкий АО  Yamalo-Nenets Autonomous district       86560   \n",
       "84    Ярославская область                   Yaroslavl Region       33882   \n",
       "\n",
       "    Population  Unnamed: 4  \n",
       "0       218866         NaN  \n",
       "1       793194         NaN  \n",
       "2      1144119         NaN  \n",
       "3      1014065         NaN  \n",
       "4      1547418         NaN  \n",
       "..         ...         ...  \n",
       "80     1456951         NaN  \n",
       "81     1223395         NaN  \n",
       "82       49663         NaN  \n",
       "83      541479         NaN  \n",
       "84     1259612         NaN  \n",
       "\n",
       "[85 rows x 5 columns]"
      ],
      "text/html": "<div>\n<style scoped>\n    .dataframe tbody tr th:only-of-type {\n        vertical-align: middle;\n    }\n\n    .dataframe tbody tr th {\n        vertical-align: top;\n    }\n\n    .dataframe thead th {\n        text-align: right;\n    }\n</style>\n<table border=\"1\" class=\"dataframe\">\n  <thead>\n    <tr style=\"text-align: right;\">\n      <th></th>\n      <th>Region_RU</th>\n      <th>Region_EN</th>\n      <th>AVG_Salary</th>\n      <th>Population</th>\n      <th>Unnamed: 4</th>\n    </tr>\n  </thead>\n  <tbody>\n    <tr>\n      <th>0</th>\n      <td>Алтайский край</td>\n      <td>Altai Region</td>\n      <td>25960</td>\n      <td>218866</td>\n      <td>NaN</td>\n    </tr>\n    <tr>\n      <th>1</th>\n      <td>Амурская область</td>\n      <td>Amur Region</td>\n      <td>43156</td>\n      <td>793194</td>\n      <td>NaN</td>\n    </tr>\n    <tr>\n      <th>2</th>\n      <td>Архангельская область</td>\n      <td>Arkhangelsk Region</td>\n      <td>47526</td>\n      <td>1144119</td>\n      <td>NaN</td>\n    </tr>\n    <tr>\n      <th>3</th>\n      <td>Астраханская область</td>\n      <td>Astrakhan Region</td>\n      <td>32166</td>\n      <td>1014065</td>\n      <td>NaN</td>\n    </tr>\n    <tr>\n      <th>4</th>\n      <td>Белгородская область</td>\n      <td>Belgorod Region</td>\n      <td>31163</td>\n      <td>1547418</td>\n      <td>NaN</td>\n    </tr>\n    <tr>\n      <th>...</th>\n      <td>...</td>\n      <td>...</td>\n      <td>...</td>\n      <td>...</td>\n      <td>...</td>\n    </tr>\n    <tr>\n      <th>80</th>\n      <td>Чеченская Республика</td>\n      <td>Republic of Chechnya</td>\n      <td>26108</td>\n      <td>1456951</td>\n      <td>NaN</td>\n    </tr>\n    <tr>\n      <th>81</th>\n      <td>Чувашская Республика</td>\n      <td>Chuvash Republic</td>\n      <td>27028</td>\n      <td>1223395</td>\n      <td>NaN</td>\n    </tr>\n    <tr>\n      <th>82</th>\n      <td>Чукотский АО</td>\n      <td>Chukotka AO</td>\n      <td>96930</td>\n      <td>49663</td>\n      <td>NaN</td>\n    </tr>\n    <tr>\n      <th>83</th>\n      <td>Ямало-Ненецкий АО</td>\n      <td>Yamalo-Nenets Autonomous district</td>\n      <td>86560</td>\n      <td>541479</td>\n      <td>NaN</td>\n    </tr>\n    <tr>\n      <th>84</th>\n      <td>Ярославская область</td>\n      <td>Yaroslavl Region</td>\n      <td>33882</td>\n      <td>1259612</td>\n      <td>NaN</td>\n    </tr>\n  </tbody>\n</table>\n<p>85 rows × 5 columns</p>\n</div>"
     },
     "metadata": {},
     "execution_count": 4
    }
   ],
   "source": [
    "df"
   ]
  },
  {
   "cell_type": "code",
   "execution_count": 5,
   "metadata": {},
   "outputs": [],
   "source": [
    "# Удаляем из столбца Region_RU, строки = Республика Башкортостан, Ханты-Мансийский АО (Югра), Оренбургская область\n",
    "df = df.loc[~df['Region_RU'].isin(['Республика Башкортостан', 'Ханты-Мансийский АО (Югра)', 'Оренбургская область'])]"
   ]
  },
  {
   "cell_type": "code",
   "execution_count": 6,
   "metadata": {},
   "outputs": [
    {
     "output_type": "execute_result",
     "data": {
      "text/plain": [
       "                Region_RU                          Region_EN  AVG_Salary  \\\n",
       "0          Алтайский край                       Altai Region       25960   \n",
       "1        Амурская область                        Amur Region       43156   \n",
       "2   Архангельская область                 Arkhangelsk Region       47526   \n",
       "3    Астраханская область                   Astrakhan Region       32166   \n",
       "4    Белгородская область                    Belgorod Region       31163   \n",
       "..                    ...                                ...         ...   \n",
       "80   Чеченская Республика               Republic of Chechnya       26108   \n",
       "81   Чувашская Республика                   Chuvash Republic       27028   \n",
       "82           Чукотский АО                        Chukotka AO       96930   \n",
       "83      Ямало-Ненецкий АО  Yamalo-Nenets Autonomous district       86560   \n",
       "84    Ярославская область                   Yaroslavl Region       33882   \n",
       "\n",
       "    Population  \n",
       "0       218866  \n",
       "1       793194  \n",
       "2      1144119  \n",
       "3      1014065  \n",
       "4      1547418  \n",
       "..         ...  \n",
       "80     1456951  \n",
       "81     1223395  \n",
       "82       49663  \n",
       "83      541479  \n",
       "84     1259612  \n",
       "\n",
       "[82 rows x 4 columns]"
      ],
      "text/html": "<div>\n<style scoped>\n    .dataframe tbody tr th:only-of-type {\n        vertical-align: middle;\n    }\n\n    .dataframe tbody tr th {\n        vertical-align: top;\n    }\n\n    .dataframe thead th {\n        text-align: right;\n    }\n</style>\n<table border=\"1\" class=\"dataframe\">\n  <thead>\n    <tr style=\"text-align: right;\">\n      <th></th>\n      <th>Region_RU</th>\n      <th>Region_EN</th>\n      <th>AVG_Salary</th>\n      <th>Population</th>\n    </tr>\n  </thead>\n  <tbody>\n    <tr>\n      <th>0</th>\n      <td>Алтайский край</td>\n      <td>Altai Region</td>\n      <td>25960</td>\n      <td>218866</td>\n    </tr>\n    <tr>\n      <th>1</th>\n      <td>Амурская область</td>\n      <td>Amur Region</td>\n      <td>43156</td>\n      <td>793194</td>\n    </tr>\n    <tr>\n      <th>2</th>\n      <td>Архангельская область</td>\n      <td>Arkhangelsk Region</td>\n      <td>47526</td>\n      <td>1144119</td>\n    </tr>\n    <tr>\n      <th>3</th>\n      <td>Астраханская область</td>\n      <td>Astrakhan Region</td>\n      <td>32166</td>\n      <td>1014065</td>\n    </tr>\n    <tr>\n      <th>4</th>\n      <td>Белгородская область</td>\n      <td>Belgorod Region</td>\n      <td>31163</td>\n      <td>1547418</td>\n    </tr>\n    <tr>\n      <th>...</th>\n      <td>...</td>\n      <td>...</td>\n      <td>...</td>\n      <td>...</td>\n    </tr>\n    <tr>\n      <th>80</th>\n      <td>Чеченская Республика</td>\n      <td>Republic of Chechnya</td>\n      <td>26108</td>\n      <td>1456951</td>\n    </tr>\n    <tr>\n      <th>81</th>\n      <td>Чувашская Республика</td>\n      <td>Chuvash Republic</td>\n      <td>27028</td>\n      <td>1223395</td>\n    </tr>\n    <tr>\n      <th>82</th>\n      <td>Чукотский АО</td>\n      <td>Chukotka AO</td>\n      <td>96930</td>\n      <td>49663</td>\n    </tr>\n    <tr>\n      <th>83</th>\n      <td>Ямало-Ненецкий АО</td>\n      <td>Yamalo-Nenets Autonomous district</td>\n      <td>86560</td>\n      <td>541479</td>\n    </tr>\n    <tr>\n      <th>84</th>\n      <td>Ярославская область</td>\n      <td>Yaroslavl Region</td>\n      <td>33882</td>\n      <td>1259612</td>\n    </tr>\n  </tbody>\n</table>\n<p>82 rows × 4 columns</p>\n</div>"
     },
     "metadata": {},
     "execution_count": 6
    }
   ],
   "source": [
    "# Удаляем столбце Unnamed: 4\n",
    "df.drop(\"Unnamed: 4\", axis=1)"
   ]
  },
  {
   "source": [
    "Выборочное среднее $\\overline X$:"
   ],
   "cell_type": "markdown",
   "metadata": {}
  },
  {
   "cell_type": "code",
   "execution_count": 7,
   "metadata": {},
   "outputs": [
    {
     "output_type": "execute_result",
     "data": {
      "text/plain": [
       "38720.96341463415"
      ]
     },
     "metadata": {},
     "execution_count": 7
    }
   ],
   "source": [
    "df['AVG_Salary'].mean()"
   ]
  },
  {
   "source": [
    "Выборочная медиана $Me$:"
   ],
   "cell_type": "markdown",
   "metadata": {}
  },
  {
   "cell_type": "code",
   "execution_count": 8,
   "metadata": {},
   "outputs": [
    {
     "output_type": "execute_result",
     "data": {
      "text/plain": [
       "32723.0"
      ]
     },
     "metadata": {},
     "execution_count": 8
    }
   ],
   "source": [
    "df['AVG_Salary'].median()"
   ]
  },
  {
   "source": [
    "Оценка дисперсии $S^2$:"
   ],
   "cell_type": "markdown",
   "metadata": {}
  },
  {
   "source": [
    "# Параметр ddof позволяет указать необходимую дельту степени свободы\n",
    "df['AVG_Salary'].var(ddof = 0)"
   ],
   "cell_type": "code",
   "metadata": {},
   "execution_count": 9,
   "outputs": [
    {
     "output_type": "execute_result",
     "data": {
      "text/plain": [
       "269284654.25475913"
      ]
     },
     "metadata": {},
     "execution_count": 9
    }
   ]
  },
  {
   "source": [
    "Среднеквадратическое отклонение $\\sigma$:"
   ],
   "cell_type": "markdown",
   "metadata": {}
  },
  {
   "cell_type": "code",
   "execution_count": 10,
   "metadata": {},
   "outputs": [
    {
     "output_type": "execute_result",
     "data": {
      "text/plain": [
       "16409.89501047338"
      ]
     },
     "metadata": {},
     "execution_count": 10
    }
   ],
   "source": [
    "df['AVG_Salary'].std(ddof = 0)"
   ]
  }
 ]
}