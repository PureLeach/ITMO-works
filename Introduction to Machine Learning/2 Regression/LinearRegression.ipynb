{
 "metadata": {
  "language_info": {
   "codemirror_mode": {
    "name": "ipython",
    "version": 3
   },
   "file_extension": ".py",
   "mimetype": "text/x-python",
   "name": "python",
   "nbconvert_exporter": "python",
   "pygments_lexer": "ipython3",
   "version": "3.9.4"
  },
  "orig_nbformat": 2,
  "kernelspec": {
   "name": "python394jvsc74a57bd077594395d1dbc7e532b1109311e8d416ccbba4c1ee0c9f1f05ad46b02508c705",
   "display_name": "Python 3.9.4 64-bit"
  },
  "metadata": {
   "interpreter": {
    "hash": "77594395d1dbc7e532b1109311e8d416ccbba4c1ee0c9f1f05ad46b02508c705"
   }
  }
 },
 "nbformat": 4,
 "nbformat_minor": 2,
 "cells": [
  {
   "cell_type": "code",
   "execution_count": 6,
   "metadata": {},
   "outputs": [],
   "source": [
    "import pandas as pd"
   ]
  },
  {
   "cell_type": "code",
   "execution_count": 7,
   "metadata": {},
   "outputs": [
    {
     "output_type": "execute_result",
     "data": {
      "text/plain": [
       "     X   Y\n",
       "id        \n",
       "1    7  22\n",
       "2   18  53\n",
       "3   22  48\n",
       "4    5  12\n",
       "5    6  18\n",
       "6    4   8\n",
       "7   19  43\n",
       "8   14  31\n",
       "9    8  16\n",
       "10  11  36"
      ],
      "text/html": "<div>\n<style scoped>\n    .dataframe tbody tr th:only-of-type {\n        vertical-align: middle;\n    }\n\n    .dataframe tbody tr th {\n        vertical-align: top;\n    }\n\n    .dataframe thead th {\n        text-align: right;\n    }\n</style>\n<table border=\"1\" class=\"dataframe\">\n  <thead>\n    <tr style=\"text-align: right;\">\n      <th></th>\n      <th>X</th>\n      <th>Y</th>\n    </tr>\n    <tr>\n      <th>id</th>\n      <th></th>\n      <th></th>\n    </tr>\n  </thead>\n  <tbody>\n    <tr>\n      <th>1</th>\n      <td>7</td>\n      <td>22</td>\n    </tr>\n    <tr>\n      <th>2</th>\n      <td>18</td>\n      <td>53</td>\n    </tr>\n    <tr>\n      <th>3</th>\n      <td>22</td>\n      <td>48</td>\n    </tr>\n    <tr>\n      <th>4</th>\n      <td>5</td>\n      <td>12</td>\n    </tr>\n    <tr>\n      <th>5</th>\n      <td>6</td>\n      <td>18</td>\n    </tr>\n    <tr>\n      <th>6</th>\n      <td>4</td>\n      <td>8</td>\n    </tr>\n    <tr>\n      <th>7</th>\n      <td>19</td>\n      <td>43</td>\n    </tr>\n    <tr>\n      <th>8</th>\n      <td>14</td>\n      <td>31</td>\n    </tr>\n    <tr>\n      <th>9</th>\n      <td>8</td>\n      <td>16</td>\n    </tr>\n    <tr>\n      <th>10</th>\n      <td>11</td>\n      <td>36</td>\n    </tr>\n  </tbody>\n</table>\n</div>"
     },
     "metadata": {},
     "execution_count": 7
    }
   ],
   "source": [
    "# Используем id в качестве индекса\n",
    "df = pd.read_csv(r\"data.csv\",\n",
    "                  sep=',', decimal='.', index_col='id')\n",
    "df"
   ]
  },
  {
   "cell_type": "code",
   "execution_count": 8,
   "metadata": {},
   "outputs": [],
   "source": [
    "# Указываем столбец предиктора\n",
    "X = pd.DataFrame(df['X'])\n",
    "# Указываем столбец отклика\n",
    "y_true = pd.DataFrame(df['Y'])"
   ]
  },
  {
   "cell_type": "code",
   "execution_count": 9,
   "metadata": {},
   "outputs": [],
   "source": [
    "# Подключаем модель линейной регрессии из библиотеки scikit-learn\n",
    "from sklearn.linear_model import LinearRegression"
   ]
  },
  {
   "cell_type": "code",
   "execution_count": 10,
   "metadata": {},
   "outputs": [],
   "source": [
    "# Обучение модели\n",
    "regressor = LinearRegression().fit(X, y_true)"
   ]
  },
  {
   "source": [
    "Выборочное среднее $\\overline X$:"
   ],
   "cell_type": "markdown",
   "metadata": {}
  },
  {
   "cell_type": "code",
   "execution_count": 11,
   "metadata": {},
   "outputs": [
    {
     "output_type": "execute_result",
     "data": {
      "text/plain": [
       "11.4"
      ]
     },
     "metadata": {},
     "execution_count": 11
    }
   ],
   "source": [
    "df['X'].mean()"
   ]
  },
  {
   "source": [
    "Выборочное среднее $\\overline Y$:"
   ],
   "cell_type": "markdown",
   "metadata": {}
  },
  {
   "cell_type": "code",
   "execution_count": 12,
   "metadata": {},
   "outputs": [
    {
     "output_type": "execute_result",
     "data": {
      "text/plain": [
       "28.7"
      ]
     },
     "metadata": {},
     "execution_count": 12
    }
   ],
   "source": [
    "df['Y'].mean()"
   ]
  },
  {
   "source": [
    "Значение коэффициента $\\theta_0$:"
   ],
   "cell_type": "markdown",
   "metadata": {}
  },
  {
   "cell_type": "code",
   "execution_count": 13,
   "metadata": {},
   "outputs": [
    {
     "output_type": "execute_result",
     "data": {
      "text/plain": [
       "array([2.43517535])"
      ]
     },
     "metadata": {},
     "execution_count": 13
    }
   ],
   "source": [
    "tetta0 = regressor.intercept_\n",
    "tetta0"
   ]
  },
  {
   "source": [
    "Значение коэффициентов $\\theta_1, \\ldots, \\theta_p$:"
   ],
   "cell_type": "markdown",
   "metadata": {}
  },
  {
   "source": [
    "tetta = regressor.coef_\n",
    "tetta"
   ],
   "cell_type": "code",
   "metadata": {},
   "execution_count": 14,
   "outputs": [
    {
     "output_type": "execute_result",
     "data": {
      "text/plain": [
       "array([[2.30393199]])"
      ]
     },
     "metadata": {},
     "execution_count": 14
    }
   ]
  },
  {
   "source": [
    "Оценка точности модели.\n",
    "Коэффициент детерминации $R^2$:"
   ],
   "cell_type": "markdown",
   "metadata": {}
  },
  {
   "cell_type": "code",
   "execution_count": 15,
   "metadata": {},
   "outputs": [],
   "source": [
    "from sklearn.metrics import r2_score"
   ]
  },
  {
   "cell_type": "code",
   "execution_count": 16,
   "metadata": {},
   "outputs": [],
   "source": [
    "# Вычисление y_pred \n",
    "predictions = regressor.predict(X)"
   ]
  },
  {
   "cell_type": "code",
   "execution_count": 17,
   "metadata": {},
   "outputs": [
    {
     "output_type": "execute_result",
     "data": {
      "text/plain": [
       "0.8863714206739393"
      ]
     },
     "metadata": {},
     "execution_count": 17
    }
   ],
   "source": [
    "r2_score(y_true, predictions)"
   ]
  }
 ]
}