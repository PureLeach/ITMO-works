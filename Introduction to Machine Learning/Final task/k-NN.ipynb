{
 "metadata": {
  "language_info": {
   "codemirror_mode": {
    "name": "ipython",
    "version": 3
   },
   "file_extension": ".py",
   "mimetype": "text/x-python",
   "name": "python",
   "nbconvert_exporter": "python",
   "pygments_lexer": "ipython3",
   "version": "3.9.4"
  },
  "orig_nbformat": 2,
  "kernelspec": {
   "name": "python394jvsc74a57bd077594395d1dbc7e532b1109311e8d416ccbba4c1ee0c9f1f05ad46b02508c705",
   "display_name": "Python 3.9.4 64-bit"
  },
  "metadata": {
   "interpreter": {
    "hash": "77594395d1dbc7e532b1109311e8d416ccbba4c1ee0c9f1f05ad46b02508c705"
   }
  }
 },
 "nbformat": 4,
 "nbformat_minor": 2,
 "cells": [
  {
   "cell_type": "code",
   "execution_count": 11,
   "metadata": {},
   "outputs": [],
   "source": [
    "import numpy as np\n",
    "import pandas as pd"
   ]
  },
  {
   "cell_type": "code",
   "execution_count": 12,
   "metadata": {},
   "outputs": [],
   "source": [
    "# Задаём максимально количкство строк для вывода\n",
    "# pd.options.display.max_rows = 100"
   ]
  },
  {
   "cell_type": "code",
   "execution_count": 13,
   "metadata": {},
   "outputs": [],
   "source": [
    "df = pd.read_csv(r\"report.csv\",\n",
    "                  sep=',', decimal='.')\n",
    "names = df.columns"
   ]
  },
  {
   "cell_type": "code",
   "execution_count": 14,
   "metadata": {},
   "outputs": [
    {
     "output_type": "execute_result",
     "data": {
      "text/plain": [
       "           MIP      STDIP      EKIP        SIP         MC       STDC  \\\n",
       "0    67.664062  32.561787  2.028000   8.098344   8.266722  34.838902   \n",
       "1    65.226562  35.696904  2.291891  10.118479  15.515050  48.872426   \n",
       "2    69.210938  45.266166  2.024291   4.485091   2.546823  18.201225   \n",
       "3    65.796875  46.205106  2.289091   6.235283  20.372074  51.022074   \n",
       "4    69.210938  36.152380  2.602622  11.032994  11.813545  41.382661   \n",
       "..         ...        ...       ...        ...        ...        ...   \n",
       "197  95.093750  46.560854  0.586803   0.409974   2.747492  20.590768   \n",
       "198  94.812500  45.756275  0.637962   0.920456   6.995819  33.609639   \n",
       "199  65.203125  33.163977  2.861041  12.804505  44.520903  75.761212   \n",
       "200  94.671875  45.477348  0.435846   0.676577   0.899666  12.548766   \n",
       "201  94.773438  37.718782  0.538717   1.536012   1.431438  11.224353   \n",
       "\n",
       "           EKC          SC  TARGET  \n",
       "0     4.793382   24.032048       1  \n",
       "1     3.185367    9.164036       1  \n",
       "2     9.997593  109.122306       1  \n",
       "3     2.941692    8.457182       1  \n",
       "4     3.902658   15.151920       1  \n",
       "..         ...         ...     ...  \n",
       "197   7.940477   65.508377       0  \n",
       "198   4.950313   24.080654       0  \n",
       "199   1.369637    0.316789       1  \n",
       "200  15.473803  257.052253       0  \n",
       "201  13.800653  252.822918       0  \n",
       "\n",
       "[202 rows x 9 columns]"
      ],
      "text/html": "<div>\n<style scoped>\n    .dataframe tbody tr th:only-of-type {\n        vertical-align: middle;\n    }\n\n    .dataframe tbody tr th {\n        vertical-align: top;\n    }\n\n    .dataframe thead th {\n        text-align: right;\n    }\n</style>\n<table border=\"1\" class=\"dataframe\">\n  <thead>\n    <tr style=\"text-align: right;\">\n      <th></th>\n      <th>MIP</th>\n      <th>STDIP</th>\n      <th>EKIP</th>\n      <th>SIP</th>\n      <th>MC</th>\n      <th>STDC</th>\n      <th>EKC</th>\n      <th>SC</th>\n      <th>TARGET</th>\n    </tr>\n  </thead>\n  <tbody>\n    <tr>\n      <th>0</th>\n      <td>67.664062</td>\n      <td>32.561787</td>\n      <td>2.028000</td>\n      <td>8.098344</td>\n      <td>8.266722</td>\n      <td>34.838902</td>\n      <td>4.793382</td>\n      <td>24.032048</td>\n      <td>1</td>\n    </tr>\n    <tr>\n      <th>1</th>\n      <td>65.226562</td>\n      <td>35.696904</td>\n      <td>2.291891</td>\n      <td>10.118479</td>\n      <td>15.515050</td>\n      <td>48.872426</td>\n      <td>3.185367</td>\n      <td>9.164036</td>\n      <td>1</td>\n    </tr>\n    <tr>\n      <th>2</th>\n      <td>69.210938</td>\n      <td>45.266166</td>\n      <td>2.024291</td>\n      <td>4.485091</td>\n      <td>2.546823</td>\n      <td>18.201225</td>\n      <td>9.997593</td>\n      <td>109.122306</td>\n      <td>1</td>\n    </tr>\n    <tr>\n      <th>3</th>\n      <td>65.796875</td>\n      <td>46.205106</td>\n      <td>2.289091</td>\n      <td>6.235283</td>\n      <td>20.372074</td>\n      <td>51.022074</td>\n      <td>2.941692</td>\n      <td>8.457182</td>\n      <td>1</td>\n    </tr>\n    <tr>\n      <th>4</th>\n      <td>69.210938</td>\n      <td>36.152380</td>\n      <td>2.602622</td>\n      <td>11.032994</td>\n      <td>11.813545</td>\n      <td>41.382661</td>\n      <td>3.902658</td>\n      <td>15.151920</td>\n      <td>1</td>\n    </tr>\n    <tr>\n      <th>...</th>\n      <td>...</td>\n      <td>...</td>\n      <td>...</td>\n      <td>...</td>\n      <td>...</td>\n      <td>...</td>\n      <td>...</td>\n      <td>...</td>\n      <td>...</td>\n    </tr>\n    <tr>\n      <th>197</th>\n      <td>95.093750</td>\n      <td>46.560854</td>\n      <td>0.586803</td>\n      <td>0.409974</td>\n      <td>2.747492</td>\n      <td>20.590768</td>\n      <td>7.940477</td>\n      <td>65.508377</td>\n      <td>0</td>\n    </tr>\n    <tr>\n      <th>198</th>\n      <td>94.812500</td>\n      <td>45.756275</td>\n      <td>0.637962</td>\n      <td>0.920456</td>\n      <td>6.995819</td>\n      <td>33.609639</td>\n      <td>4.950313</td>\n      <td>24.080654</td>\n      <td>0</td>\n    </tr>\n    <tr>\n      <th>199</th>\n      <td>65.203125</td>\n      <td>33.163977</td>\n      <td>2.861041</td>\n      <td>12.804505</td>\n      <td>44.520903</td>\n      <td>75.761212</td>\n      <td>1.369637</td>\n      <td>0.316789</td>\n      <td>1</td>\n    </tr>\n    <tr>\n      <th>200</th>\n      <td>94.671875</td>\n      <td>45.477348</td>\n      <td>0.435846</td>\n      <td>0.676577</td>\n      <td>0.899666</td>\n      <td>12.548766</td>\n      <td>15.473803</td>\n      <td>257.052253</td>\n      <td>0</td>\n    </tr>\n    <tr>\n      <th>201</th>\n      <td>94.773438</td>\n      <td>37.718782</td>\n      <td>0.538717</td>\n      <td>1.536012</td>\n      <td>1.431438</td>\n      <td>11.224353</td>\n      <td>13.800653</td>\n      <td>252.822918</td>\n      <td>0</td>\n    </tr>\n  </tbody>\n</table>\n<p>202 rows × 9 columns</p>\n</div>"
     },
     "metadata": {},
     "execution_count": 14
    }
   ],
   "source": [
    "df"
   ]
  },
  {
   "cell_type": "code",
   "execution_count": 15,
   "metadata": {},
   "outputs": [
    {
     "output_type": "execute_result",
     "data": {
      "text/plain": [
       "81.34007580445545"
      ]
     },
     "metadata": {},
     "execution_count": 15
    }
   ],
   "source": [
    "# Определите выборочное среднее для столбца MIP\n",
    "df['MIP'].mean()\n"
   ]
  },
  {
   "cell_type": "code",
   "execution_count": 16,
   "metadata": {},
   "outputs": [],
   "source": [
    "# Выполните линейную нормировку всех значений предикторов полученной выборки\n",
    "from sklearn import preprocessing\n",
    "# Нормировака 1. Для отдельного столбца:\n",
    "# x_array = np.array(df['MIP'])\n",
    "# normalized_arr = preprocessing.normalize([x_array])\n",
    "# Определите выборочное среднее для столбца MIP после нормировки\n",
    "# np.mean(normalized_arr)"
   ]
  },
  {
   "cell_type": "code",
   "execution_count": 17,
   "metadata": {},
   "outputs": [],
   "source": [
    "# Нормировка 2. Для всей выборки:\n",
    "# d = preprocessing.normalize(df)\n",
    "# scaled_df = pd.DataFrame(d, columns=names)\n",
    "# Определите выборочное среднее для столбца MIP после нормировки\n",
    "# scaled_df['MIP'].mean()\n"
   ]
  },
  {
   "cell_type": "code",
   "execution_count": 18,
   "metadata": {},
   "outputs": [
    {
     "output_type": "execute_result",
     "data": {
      "text/plain": [
       "0.5382802438506071"
      ]
     },
     "metadata": {},
     "execution_count": 18
    }
   ],
   "source": [
    "# Нормировка 3. Для всей выборки:\n",
    "scaler = preprocessing.MinMaxScaler()\n",
    "d = scaler.fit_transform(df)\n",
    "scaled_df = pd.DataFrame(d, columns=names)\n",
    "# Определите выборочное среднее для столбца MIP после нормировки\n",
    "scaled_df['MIP'].mean()"
   ]
  },
  {
   "cell_type": "code",
   "execution_count": 19,
   "metadata": {},
   "outputs": [],
   "source": [
    "# Обучение модели логистической регрессии\n",
    "# Подключение модели логистической регрессии из библиотеки sklearn\n",
    "from sklearn.linear_model import LogisticRegression\n"
   ]
  },
  {
   "cell_type": "code",
   "execution_count": 20,
   "metadata": {},
   "outputs": [],
   "source": [
    "# Отбор данных для предикторов, удаление последнего столбца, индекс не включается в данные автоматически.\n",
    "X = pd.DataFrame(scaled_df.drop(['TARGET'], axis=1))\n",
    "# Отбор столбца для отклика\n",
    "y = pd.DataFrame(scaled_df['TARGET']).values.ravel()"
   ]
  },
  {
   "cell_type": "code",
   "execution_count": 21,
   "metadata": {},
   "outputs": [
    {
     "output_type": "execute_result",
     "data": {
      "text/plain": [
       "KNeighborsClassifier()"
      ]
     },
     "metadata": {},
     "execution_count": 21
    }
   ],
   "source": [
    "# Подключение библиотеки и задание параметров модели: n_neighbors — число соседей; p — используемое расстояние. Манхэттенское расстояние — p=1, евклидово расстояние — p=2.\n",
    "from sklearn.neighbors import KNeighborsClassifier\n",
    "neigh = KNeighborsClassifier(n_neighbors=5, p=2)\n",
    "neigh.fit(X, y)"
   ]
  },
  {
   "cell_type": "code",
   "execution_count": 22,
   "metadata": {},
   "outputs": [],
   "source": [
    "# Новый объект, который необходимо классифицировать\n",
    "NewObject = [0.254, 0.19, 0.939, 0.624, 0.935, 0.875, 0.151, 0.312]"
   ]
  },
  {
   "cell_type": "code",
   "execution_count": 23,
   "metadata": {},
   "outputs": [
    {
     "output_type": "execute_result",
     "data": {
      "text/plain": [
       "array([1.])"
      ]
     },
     "metadata": {},
     "execution_count": 23
    }
   ],
   "source": [
    "# Назначенный класс:\n",
    "neigh.predict([NewObject])"
   ]
  },
  {
   "cell_type": "code",
   "execution_count": 24,
   "metadata": {},
   "outputs": [
    {
     "output_type": "execute_result",
     "data": {
      "text/plain": [
       "array([[0., 1.]])"
      ]
     },
     "metadata": {},
     "execution_count": 24
    }
   ],
   "source": [
    "# Вероятности отнесения к классам 0 и 1 соответственно:\n",
    "neigh.predict_proba([NewObject])"
   ]
  },
  {
   "cell_type": "code",
   "execution_count": 25,
   "metadata": {},
   "outputs": [
    {
     "output_type": "execute_result",
     "data": {
      "text/plain": [
       "(array([[0.60717192, 0.63562366, 0.7012051 , 0.72964615, 0.73001303]]),\n",
       " array([[127, 119, 102,  36,  44]], dtype=int64))"
      ]
     },
     "metadata": {},
     "execution_count": 25
    }
   ],
   "source": [
    "# Вывод расстояний до k соседей в порядке удаления (первый массив — расстояния, второй — идентификаторы объектов). Обращаем внимание, что метод возвращает индексы ближайших соседей с нуля, что не соответствует индексации в таблице.\n",
    "neigh.kneighbors([NewObject])"
   ]
  }
 ]
}